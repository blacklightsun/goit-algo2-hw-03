{
 "cells": [
  {
   "cell_type": "code",
   "execution_count": 1,
   "id": "aaec7c18",
   "metadata": {},
   "outputs": [],
   "source": [
    "# підключення потрібних модулей\n",
    "import numpy as np\n",
    "import pandas as pd\n",
    "import matplotlib.pyplot as plt\n",
    "import seaborn as sns\n",
    "from tqdm import tqdm\n",
    "from pathlib import Path\n",
    "import shutil\n",
    "from pprint import pprint\n",
    "\n",
    "# параметри виведення\n",
    "pd.set_option(\"display.max_columns\", 500) # кількість колонок\n",
    "pd.set_option(\"display.max_rows\", 1000) # кількість рядків\n",
    "pd.set_option(\"display.max_colwidth\", 300) # ширина колонок\n",
    "pd.set_option(\"display.precision\", 5) # кількість знаків після коми\n",
    "\n",
    "# вимикаємо зайві попередження\n",
    "import warnings\n",
    "warnings.filterwarnings(\"ignore\")\n",
    "\n",
    "# друк всіх результатів в одній комірці а не тільки останнього\n",
    "from IPython.core.interactiveshell import InteractiveShell\n",
    "InteractiveShell.ast_node_interactivity = \"all\"\n",
    "\n",
    "# магічний метод для того щоб отримувати графіки біля комірок з кодом\n",
    "%matplotlib inline"
   ]
  },
  {
   "cell_type": "code",
   "execution_count": 2,
   "id": "5cbbb260",
   "metadata": {},
   "outputs": [],
   "source": [
    "# додаткові модулі\n",
    "from BTrees.OOBTree import OOBTree\n",
    "import csv\n",
    "from copy import deepcopy\n",
    "from pprint import pprint\n",
    "import timeit"
   ]
  },
  {
   "cell_type": "code",
   "execution_count": 3,
   "id": "0ce2a436",
   "metadata": {},
   "outputs": [
    {
     "name": "stdout",
     "output_type": "stream",
     "text": [
      "{'ID': '88519', 'Name': 'Product_88519', 'Category': 'Home', 'Price': '375.01'}\n",
      "{'ID': '73117', 'Name': 'Product_73117', 'Category': 'Toys', 'Price': '107.01'}\n",
      "{'ID': '68277', 'Name': 'Product_68277', 'Category': 'Toys', 'Price': '131.46'}\n"
     ]
    }
   ],
   "source": [
    "# завантаження даних\n",
    "with open('generated_items_data.csv') as f:\n",
    "    reader = list(csv.DictReader(f))\n",
    "\n",
    "# огляд перших трьох рядків\n",
    "for row in reader[:3]:\n",
    "    print(row)"
   ]
  },
  {
   "cell_type": "code",
   "execution_count": 4,
   "id": "4375b94a",
   "metadata": {},
   "outputs": [
    {
     "data": {
      "text/plain": [
       "100000"
      ]
     },
     "execution_count": 4,
     "metadata": {},
     "output_type": "execute_result"
    }
   ],
   "source": [
    "# завантаження даних в словник\n",
    "def add_item_to_dict(csv_row):\n",
    "    key = int(csv_row.pop(\"ID\"))\n",
    "    obj = csv_row\n",
    "    data_dict[key] = obj\n",
    "\n",
    "data_dict = {}\n",
    "for row in deepcopy(reader):\n",
    "    add_item_to_dict(row)\n",
    "\n",
    "len(data_dict)"
   ]
  },
  {
   "cell_type": "code",
   "execution_count": 5,
   "id": "b357a541",
   "metadata": {},
   "outputs": [
    {
     "data": {
      "text/plain": [
       "<BTrees.OOBTree.OOBTree object at 0x73253ab6b9c0>"
      ]
     },
     "execution_count": 5,
     "metadata": {},
     "output_type": "execute_result"
    }
   ],
   "source": [
    "# завантаження даних в OOBTree\n",
    "def add_item_to_tree(csv_row):\n",
    "    key = int(csv_row.pop(\"ID\"))\n",
    "    obj = csv_row\n",
    "    tree.update({key: obj})\n",
    "\n",
    "tree = OOBTree()\n",
    "for row in deepcopy(reader):\n",
    "    add_item_to_tree(row)\n",
    "\n",
    "tree"
   ]
  },
  {
   "cell_type": "code",
   "execution_count": 6,
   "id": "a7a2bed6",
   "metadata": {},
   "outputs": [
    {
     "name": "stdout",
     "output_type": "stream",
     "text": [
      "Range query in dict [{1063: {'Name': 'Product_1063', 'Category': 'Sports', 'Price': '104.43'}}, {1026: {'Name': 'Product_1026', 'Category': 'Home', 'Price': '168.85'}}, {1045: {'Name': 'Product_1045', 'Category': 'Clothing', 'Price': '157.53'}}, {1039: {'Name': 'Product_1039', 'Category': 'Sports', 'Price': '86.09'}}, {1083: {'Name': 'Product_1083', 'Category': 'Books', 'Price': '165.82'}}, {1081: {'Name': 'Product_1081', 'Category': 'Clothing', 'Price': '113.61'}}, {1070: {'Name': 'Product_1070', 'Category': 'Toys', 'Price': '145.94'}}, {1080: {'Name': 'Product_1080', 'Category': 'Home', 'Price': '335.25'}}, {1054: {'Name': 'Product_1054', 'Category': 'Home', 'Price': '230.37'}}, {1031: {'Name': 'Product_1031', 'Category': 'Home', 'Price': '489.97'}}, {1033: {'Name': 'Product_1033', 'Category': 'Sports', 'Price': '436.18'}}, {1053: {'Name': 'Product_1053', 'Category': 'Clothing', 'Price': '157.56'}}, {1096: {'Name': 'Product_1096', 'Category': 'Clothing', 'Price': '209.52'}}, {1030: {'Name': 'Product_1030', 'Category': 'Electronics', 'Price': '166.29'}}, {1079: {'Name': 'Product_1079', 'Category': 'Electronics', 'Price': '120.4'}}, {1003: {'Name': 'Product_1003', 'Category': 'Toys', 'Price': '216.03'}}, {1022: {'Name': 'Product_1022', 'Category': 'Home', 'Price': '70.75'}}, {1002: {'Name': 'Product_1002', 'Category': 'Electronics', 'Price': '268.81'}}, {1051: {'Name': 'Product_1051', 'Category': 'Sports', 'Price': '280.88'}}, {1050: {'Name': 'Product_1050', 'Category': 'Clothing', 'Price': '69.9'}}, {1023: {'Name': 'Product_1023', 'Category': 'Books', 'Price': '159.95'}}, {1021: {'Name': 'Product_1021', 'Category': 'Home', 'Price': '303.52'}}, {1007: {'Name': 'Product_1007', 'Category': 'Home', 'Price': '98.13'}}, {1060: {'Name': 'Product_1060', 'Category': 'Toys', 'Price': '140.22'}}, {1077: {'Name': 'Product_1077', 'Category': 'Electronics', 'Price': '136.54'}}, {1004: {'Name': 'Product_1004', 'Category': 'Books', 'Price': '364.03'}}, {1025: {'Name': 'Product_1025', 'Category': 'Home', 'Price': '421.46'}}, {1073: {'Name': 'Product_1073', 'Category': 'Sports', 'Price': '328.33'}}, {1017: {'Name': 'Product_1017', 'Category': 'Electronics', 'Price': '250.54'}}, {1059: {'Name': 'Product_1059', 'Category': 'Clothing', 'Price': '96.94'}}, {1001: {'Name': 'Product_1001', 'Category': 'Toys', 'Price': '336.59'}}, {1016: {'Name': 'Product_1016', 'Category': 'Books', 'Price': '301.63'}}, {1024: {'Name': 'Product_1024', 'Category': 'Sports', 'Price': '495.32'}}, {1092: {'Name': 'Product_1092', 'Category': 'Clothing', 'Price': '326.5'}}, {1009: {'Name': 'Product_1009', 'Category': 'Home', 'Price': '252.62'}}, {1006: {'Name': 'Product_1006', 'Category': 'Home', 'Price': '26.53'}}, {1072: {'Name': 'Product_1072', 'Category': 'Books', 'Price': '173.84'}}, {1066: {'Name': 'Product_1066', 'Category': 'Electronics', 'Price': '137.46'}}, {1037: {'Name': 'Product_1037', 'Category': 'Sports', 'Price': '289.24'}}, {1078: {'Name': 'Product_1078', 'Category': 'Home', 'Price': '308.22'}}, {1093: {'Name': 'Product_1093', 'Category': 'Sports', 'Price': '268.04'}}, {1090: {'Name': 'Product_1090', 'Category': 'Sports', 'Price': '161.26'}}, {1071: {'Name': 'Product_1071', 'Category': 'Electronics', 'Price': '477.7'}}, {1034: {'Name': 'Product_1034', 'Category': 'Books', 'Price': '14.3'}}, {1048: {'Name': 'Product_1048', 'Category': 'Sports', 'Price': '460.34'}}, {1040: {'Name': 'Product_1040', 'Category': 'Books', 'Price': '360.87'}}, {1027: {'Name': 'Product_1027', 'Category': 'Sports', 'Price': '266.64'}}, {1076: {'Name': 'Product_1076', 'Category': 'Sports', 'Price': '466.58'}}, {1064: {'Name': 'Product_1064', 'Category': 'Books', 'Price': '245.01'}}, {1088: {'Name': 'Product_1088', 'Category': 'Clothing', 'Price': '239.25'}}, {1012: {'Name': 'Product_1012', 'Category': 'Electronics', 'Price': '65.2'}}, {1008: {'Name': 'Product_1008', 'Category': 'Books', 'Price': '145.01'}}, {1097: {'Name': 'Product_1097', 'Category': 'Electronics', 'Price': '467.03'}}, {1084: {'Name': 'Product_1084', 'Category': 'Clothing', 'Price': '51.17'}}, {1055: {'Name': 'Product_1055', 'Category': 'Toys', 'Price': '171.82'}}, {1041: {'Name': 'Product_1041', 'Category': 'Sports', 'Price': '74.74'}}, {1094: {'Name': 'Product_1094', 'Category': 'Electronics', 'Price': '425.32'}}, {1075: {'Name': 'Product_1075', 'Category': 'Toys', 'Price': '414.15'}}, {1091: {'Name': 'Product_1091', 'Category': 'Electronics', 'Price': '30.52'}}, {1057: {'Name': 'Product_1057', 'Category': 'Sports', 'Price': '340.69'}}, {1000: {'Name': 'Product_1000', 'Category': 'Sports', 'Price': '247.95'}}, {1042: {'Name': 'Product_1042', 'Category': 'Home', 'Price': '121.86'}}, {1020: {'Name': 'Product_1020', 'Category': 'Clothing', 'Price': '260.15'}}, {1029: {'Name': 'Product_1029', 'Category': 'Toys', 'Price': '408.06'}}, {1032: {'Name': 'Product_1032', 'Category': 'Sports', 'Price': '154.53'}}, {1038: {'Name': 'Product_1038', 'Category': 'Books', 'Price': '26.63'}}, {1095: {'Name': 'Product_1095', 'Category': 'Clothing', 'Price': '456.7'}}, {1043: {'Name': 'Product_1043', 'Category': 'Electronics', 'Price': '474.15'}}, {1047: {'Name': 'Product_1047', 'Category': 'Home', 'Price': '205.78'}}, {1028: {'Name': 'Product_1028', 'Category': 'Books', 'Price': '281.9'}}, {1086: {'Name': 'Product_1086', 'Category': 'Clothing', 'Price': '488.98'}}, {1010: {'Name': 'Product_1010', 'Category': 'Home', 'Price': '140.58'}}, {1005: {'Name': 'Product_1005', 'Category': 'Books', 'Price': '183.6'}}, {1089: {'Name': 'Product_1089', 'Category': 'Toys', 'Price': '378.2'}}, {1049: {'Name': 'Product_1049', 'Category': 'Sports', 'Price': '363.97'}}, {1100: {'Name': 'Product_1100', 'Category': 'Toys', 'Price': '468.37'}}, {1069: {'Name': 'Product_1069', 'Category': 'Clothing', 'Price': '409.37'}}, {1065: {'Name': 'Product_1065', 'Category': 'Sports', 'Price': '175.05'}}, {1061: {'Name': 'Product_1061', 'Category': 'Toys', 'Price': '113.21'}}, {1013: {'Name': 'Product_1013', 'Category': 'Toys', 'Price': '197.56'}}, {1044: {'Name': 'Product_1044', 'Category': 'Books', 'Price': '96.2'}}, {1052: {'Name': 'Product_1052', 'Category': 'Books', 'Price': '239.71'}}, {1082: {'Name': 'Product_1082', 'Category': 'Books', 'Price': '27.19'}}, {1046: {'Name': 'Product_1046', 'Category': 'Clothing', 'Price': '207.07'}}, {1015: {'Name': 'Product_1015', 'Category': 'Clothing', 'Price': '377.73'}}, {1056: {'Name': 'Product_1056', 'Category': 'Sports', 'Price': '338.26'}}, {1098: {'Name': 'Product_1098', 'Category': 'Books', 'Price': '498.59'}}, {1011: {'Name': 'Product_1011', 'Category': 'Electronics', 'Price': '340.52'}}, {1035: {'Name': 'Product_1035', 'Category': 'Sports', 'Price': '133.5'}}, {1058: {'Name': 'Product_1058', 'Category': 'Books', 'Price': '132.92'}}, {1067: {'Name': 'Product_1067', 'Category': 'Home', 'Price': '287.16'}}, {1036: {'Name': 'Product_1036', 'Category': 'Home', 'Price': '391.67'}}, {1087: {'Name': 'Product_1087', 'Category': 'Books', 'Price': '204.05'}}, {1019: {'Name': 'Product_1019', 'Category': 'Books', 'Price': '167.19'}}, {1099: {'Name': 'Product_1099', 'Category': 'Clothing', 'Price': '394.19'}}, {1018: {'Name': 'Product_1018', 'Category': 'Sports', 'Price': '20.42'}}, {1068: {'Name': 'Product_1068', 'Category': 'Books', 'Price': '190.47'}}, {1014: {'Name': 'Product_1014', 'Category': 'Toys', 'Price': '279.36'}}, {1085: {'Name': 'Product_1085', 'Category': 'Home', 'Price': '3.59'}}, {1074: {'Name': 'Product_1074', 'Category': 'Clothing', 'Price': '240.06'}}, {1062: {'Name': 'Product_1062', 'Category': 'Sports', 'Price': '385.82'}}]\n"
     ]
    }
   ],
   "source": [
    "# функція пошуку в словнику діапазону елементів за ключем\n",
    "def range_query_dict(start, end):\n",
    "    \"\"\"\n",
    "    Функція для виконання запиту діапазону в словнику\n",
    "    :param start: початок діапазону\n",
    "    :param end: кінець діапазону\n",
    "    :return: список елементів у діапазоні\n",
    "    \"\"\"\n",
    "    result = []\n",
    "    for key in data_dict.keys():\n",
    "        if start <= key <= end:\n",
    "            result.append({key: data_dict[key]})\n",
    "    return result\n",
    "\n",
    "# тестування функції\n",
    "print(f\"Range query in dict {range_query_dict(1000, 1100)}\")"
   ]
  },
  {
   "cell_type": "code",
   "execution_count": 7,
   "id": "8ec78f70",
   "metadata": {},
   "outputs": [
    {
     "name": "stdout",
     "output_type": "stream",
     "text": [
      "Range query in tree [(1000, {'Name': 'Product_1000', 'Category': 'Sports', 'Price': '247.95'}), (1001, {'Name': 'Product_1001', 'Category': 'Toys', 'Price': '336.59'}), (1002, {'Name': 'Product_1002', 'Category': 'Electronics', 'Price': '268.81'}), (1003, {'Name': 'Product_1003', 'Category': 'Toys', 'Price': '216.03'}), (1004, {'Name': 'Product_1004', 'Category': 'Books', 'Price': '364.03'}), (1005, {'Name': 'Product_1005', 'Category': 'Books', 'Price': '183.6'}), (1006, {'Name': 'Product_1006', 'Category': 'Home', 'Price': '26.53'}), (1007, {'Name': 'Product_1007', 'Category': 'Home', 'Price': '98.13'}), (1008, {'Name': 'Product_1008', 'Category': 'Books', 'Price': '145.01'}), (1009, {'Name': 'Product_1009', 'Category': 'Home', 'Price': '252.62'}), (1010, {'Name': 'Product_1010', 'Category': 'Home', 'Price': '140.58'}), (1011, {'Name': 'Product_1011', 'Category': 'Electronics', 'Price': '340.52'}), (1012, {'Name': 'Product_1012', 'Category': 'Electronics', 'Price': '65.2'}), (1013, {'Name': 'Product_1013', 'Category': 'Toys', 'Price': '197.56'}), (1014, {'Name': 'Product_1014', 'Category': 'Toys', 'Price': '279.36'}), (1015, {'Name': 'Product_1015', 'Category': 'Clothing', 'Price': '377.73'}), (1016, {'Name': 'Product_1016', 'Category': 'Books', 'Price': '301.63'}), (1017, {'Name': 'Product_1017', 'Category': 'Electronics', 'Price': '250.54'}), (1018, {'Name': 'Product_1018', 'Category': 'Sports', 'Price': '20.42'}), (1019, {'Name': 'Product_1019', 'Category': 'Books', 'Price': '167.19'}), (1020, {'Name': 'Product_1020', 'Category': 'Clothing', 'Price': '260.15'}), (1021, {'Name': 'Product_1021', 'Category': 'Home', 'Price': '303.52'}), (1022, {'Name': 'Product_1022', 'Category': 'Home', 'Price': '70.75'}), (1023, {'Name': 'Product_1023', 'Category': 'Books', 'Price': '159.95'}), (1024, {'Name': 'Product_1024', 'Category': 'Sports', 'Price': '495.32'}), (1025, {'Name': 'Product_1025', 'Category': 'Home', 'Price': '421.46'}), (1026, {'Name': 'Product_1026', 'Category': 'Home', 'Price': '168.85'}), (1027, {'Name': 'Product_1027', 'Category': 'Sports', 'Price': '266.64'}), (1028, {'Name': 'Product_1028', 'Category': 'Books', 'Price': '281.9'}), (1029, {'Name': 'Product_1029', 'Category': 'Toys', 'Price': '408.06'}), (1030, {'Name': 'Product_1030', 'Category': 'Electronics', 'Price': '166.29'}), (1031, {'Name': 'Product_1031', 'Category': 'Home', 'Price': '489.97'}), (1032, {'Name': 'Product_1032', 'Category': 'Sports', 'Price': '154.53'}), (1033, {'Name': 'Product_1033', 'Category': 'Sports', 'Price': '436.18'}), (1034, {'Name': 'Product_1034', 'Category': 'Books', 'Price': '14.3'}), (1035, {'Name': 'Product_1035', 'Category': 'Sports', 'Price': '133.5'}), (1036, {'Name': 'Product_1036', 'Category': 'Home', 'Price': '391.67'}), (1037, {'Name': 'Product_1037', 'Category': 'Sports', 'Price': '289.24'}), (1038, {'Name': 'Product_1038', 'Category': 'Books', 'Price': '26.63'}), (1039, {'Name': 'Product_1039', 'Category': 'Sports', 'Price': '86.09'}), (1040, {'Name': 'Product_1040', 'Category': 'Books', 'Price': '360.87'}), (1041, {'Name': 'Product_1041', 'Category': 'Sports', 'Price': '74.74'}), (1042, {'Name': 'Product_1042', 'Category': 'Home', 'Price': '121.86'}), (1043, {'Name': 'Product_1043', 'Category': 'Electronics', 'Price': '474.15'}), (1044, {'Name': 'Product_1044', 'Category': 'Books', 'Price': '96.2'}), (1045, {'Name': 'Product_1045', 'Category': 'Clothing', 'Price': '157.53'}), (1046, {'Name': 'Product_1046', 'Category': 'Clothing', 'Price': '207.07'}), (1047, {'Name': 'Product_1047', 'Category': 'Home', 'Price': '205.78'}), (1048, {'Name': 'Product_1048', 'Category': 'Sports', 'Price': '460.34'}), (1049, {'Name': 'Product_1049', 'Category': 'Sports', 'Price': '363.97'}), (1050, {'Name': 'Product_1050', 'Category': 'Clothing', 'Price': '69.9'}), (1051, {'Name': 'Product_1051', 'Category': 'Sports', 'Price': '280.88'}), (1052, {'Name': 'Product_1052', 'Category': 'Books', 'Price': '239.71'}), (1053, {'Name': 'Product_1053', 'Category': 'Clothing', 'Price': '157.56'}), (1054, {'Name': 'Product_1054', 'Category': 'Home', 'Price': '230.37'}), (1055, {'Name': 'Product_1055', 'Category': 'Toys', 'Price': '171.82'}), (1056, {'Name': 'Product_1056', 'Category': 'Sports', 'Price': '338.26'}), (1057, {'Name': 'Product_1057', 'Category': 'Sports', 'Price': '340.69'}), (1058, {'Name': 'Product_1058', 'Category': 'Books', 'Price': '132.92'}), (1059, {'Name': 'Product_1059', 'Category': 'Clothing', 'Price': '96.94'}), (1060, {'Name': 'Product_1060', 'Category': 'Toys', 'Price': '140.22'}), (1061, {'Name': 'Product_1061', 'Category': 'Toys', 'Price': '113.21'}), (1062, {'Name': 'Product_1062', 'Category': 'Sports', 'Price': '385.82'}), (1063, {'Name': 'Product_1063', 'Category': 'Sports', 'Price': '104.43'}), (1064, {'Name': 'Product_1064', 'Category': 'Books', 'Price': '245.01'}), (1065, {'Name': 'Product_1065', 'Category': 'Sports', 'Price': '175.05'}), (1066, {'Name': 'Product_1066', 'Category': 'Electronics', 'Price': '137.46'}), (1067, {'Name': 'Product_1067', 'Category': 'Home', 'Price': '287.16'}), (1068, {'Name': 'Product_1068', 'Category': 'Books', 'Price': '190.47'}), (1069, {'Name': 'Product_1069', 'Category': 'Clothing', 'Price': '409.37'}), (1070, {'Name': 'Product_1070', 'Category': 'Toys', 'Price': '145.94'}), (1071, {'Name': 'Product_1071', 'Category': 'Electronics', 'Price': '477.7'}), (1072, {'Name': 'Product_1072', 'Category': 'Books', 'Price': '173.84'}), (1073, {'Name': 'Product_1073', 'Category': 'Sports', 'Price': '328.33'}), (1074, {'Name': 'Product_1074', 'Category': 'Clothing', 'Price': '240.06'}), (1075, {'Name': 'Product_1075', 'Category': 'Toys', 'Price': '414.15'}), (1076, {'Name': 'Product_1076', 'Category': 'Sports', 'Price': '466.58'}), (1077, {'Name': 'Product_1077', 'Category': 'Electronics', 'Price': '136.54'}), (1078, {'Name': 'Product_1078', 'Category': 'Home', 'Price': '308.22'}), (1079, {'Name': 'Product_1079', 'Category': 'Electronics', 'Price': '120.4'}), (1080, {'Name': 'Product_1080', 'Category': 'Home', 'Price': '335.25'}), (1081, {'Name': 'Product_1081', 'Category': 'Clothing', 'Price': '113.61'}), (1082, {'Name': 'Product_1082', 'Category': 'Books', 'Price': '27.19'}), (1083, {'Name': 'Product_1083', 'Category': 'Books', 'Price': '165.82'}), (1084, {'Name': 'Product_1084', 'Category': 'Clothing', 'Price': '51.17'}), (1085, {'Name': 'Product_1085', 'Category': 'Home', 'Price': '3.59'}), (1086, {'Name': 'Product_1086', 'Category': 'Clothing', 'Price': '488.98'}), (1087, {'Name': 'Product_1087', 'Category': 'Books', 'Price': '204.05'}), (1088, {'Name': 'Product_1088', 'Category': 'Clothing', 'Price': '239.25'}), (1089, {'Name': 'Product_1089', 'Category': 'Toys', 'Price': '378.2'}), (1090, {'Name': 'Product_1090', 'Category': 'Sports', 'Price': '161.26'}), (1091, {'Name': 'Product_1091', 'Category': 'Electronics', 'Price': '30.52'}), (1092, {'Name': 'Product_1092', 'Category': 'Clothing', 'Price': '326.5'}), (1093, {'Name': 'Product_1093', 'Category': 'Sports', 'Price': '268.04'}), (1094, {'Name': 'Product_1094', 'Category': 'Electronics', 'Price': '425.32'}), (1095, {'Name': 'Product_1095', 'Category': 'Clothing', 'Price': '456.7'}), (1096, {'Name': 'Product_1096', 'Category': 'Clothing', 'Price': '209.52'}), (1097, {'Name': 'Product_1097', 'Category': 'Electronics', 'Price': '467.03'}), (1098, {'Name': 'Product_1098', 'Category': 'Books', 'Price': '498.59'}), (1099, {'Name': 'Product_1099', 'Category': 'Clothing', 'Price': '394.19'}), (1100, {'Name': 'Product_1100', 'Category': 'Toys', 'Price': '468.37'})]\n"
     ]
    }
   ],
   "source": [
    "# функція пошуку в дереві діапазону елементів за ключем\n",
    "def range_query_tree(start, end):\n",
    "    \"\"\"\n",
    "    Функція для виконання запиту діапазону в OOBTree\n",
    "    :param start: початок діапазону\n",
    "    :param end: кінець діапазону\n",
    "    :return: список елементів у діапазоні\n",
    "    \"\"\"\n",
    "    return list(tree.items(start, end))\n",
    "\n",
    "# тестування функції\n",
    "print(f\"Range query in tree {range_query_tree(1000, 1100)}\")"
   ]
  },
  {
   "cell_type": "code",
   "execution_count": 8,
   "id": "3f42dfaf",
   "metadata": {},
   "outputs": [],
   "source": [
    "# підготовка рядків коду для замірів часу виконання\n",
    "\n",
    "dict_code_text = \"\"\"\n",
    "def range_query_dict(start, end):\n",
    "    result = []\n",
    "    for key in data_dict.keys():\n",
    "        if start <= key <= end:\n",
    "            result.append({key: data_dict[key]})\n",
    "    return result\n",
    "\n",
    "range_query_dict(1000, 10000)\n",
    "    \"\"\"\n",
    "\n",
    "tree_code_text = \"\"\"\n",
    "def range_query_tree(start, end):\n",
    "    return list(tree.items(start, end))\n",
    "\n",
    "range_query_tree(1000, 10000)\n",
    "\"\"\""
   ]
  },
  {
   "cell_type": "code",
   "execution_count": 13,
   "id": "66e25f00",
   "metadata": {},
   "outputs": [
    {
     "name": "stdout",
     "output_type": "stream",
     "text": [
      "Number of iterations: 100\n",
      "Total range_query time for OOBTree: 0.06356 seconds\n",
      "Total range_query time for Dict: 0.64028 seconds\n"
     ]
    }
   ],
   "source": [
    "# # замір часу виконання функцій\n",
    "\n",
    "n = 100\n",
    "\n",
    "dict_timer = timeit.timeit(\n",
    "    stmt=dict_code_text,\n",
    "    setup=\"from __main__ import range_query_dict, data_dict\",\n",
    "    number=n,\n",
    ")\n",
    "\n",
    "tree_timer = timeit.timeit(\n",
    "    stmt=tree_code_text,\n",
    "    setup=\"from __main__ import range_query_dict, tree\",\n",
    "    number=n,\n",
    ")\n",
    "\n",
    "# виведення результатів\n",
    "print(f'Number of iterations: {n}')\n",
    "print(f\"Total range_query time for OOBTree: {tree_timer:.5f} seconds\")\n",
    "print(f\"Total range_query time for Dict: {dict_timer:.5f} seconds\")\n"
   ]
  },
  {
   "cell_type": "markdown",
   "id": "6f802663",
   "metadata": {},
   "source": [
    "Висновки:\n",
    "---------\n",
    "1. Пошук ключів словника в діапазоні відбувається ориентовно в 10 раз повільніше ніж в OOBTree тому, що в словнику йде лінійний перебір усіх значень незалежно від розміру шуканого діапазону. В дереві скоріше за все йде прямий відбор ключів від початкового до кінечного значення, що значно швидше, ніж перебір всіх елементів словника. "
   ]
  }
 ],
 "metadata": {
  "kernelspec": {
   "display_name": "ds_env",
   "language": "python",
   "name": "python3"
  },
  "language_info": {
   "codemirror_mode": {
    "name": "ipython",
    "version": 3
   },
   "file_extension": ".py",
   "mimetype": "text/x-python",
   "name": "python",
   "nbconvert_exporter": "python",
   "pygments_lexer": "ipython3",
   "version": "3.13.1"
  }
 },
 "nbformat": 4,
 "nbformat_minor": 5
}
